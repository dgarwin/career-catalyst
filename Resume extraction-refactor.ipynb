{
 "cells": [
  {
   "cell_type": "code",
   "execution_count": 1,
   "id": "85e1a4f3-b340-4a5c-9a53-ddf92582a83b",
   "metadata": {},
   "outputs": [],
   "source": [
    "from PyPDF2 import PdfReader\n",
    "import os\n",
    "import string\n",
    "from google.cloud import storage\n",
    "import json"
   ]
  },
  {
   "cell_type": "code",
   "execution_count": 2,
   "id": "feef9fab-a2fe-47cf-acad-5d9cc1ec25f1",
   "metadata": {},
   "outputs": [],
   "source": [
    "def read_pdf(file_location):\n",
    "    reader = PdfReader(file_location)\n",
    "    accum = []\n",
    "    for page in reader.pages:\n",
    "        accum.append(page.extract_text())\n",
    "    return '\\n'.join(accum)"
   ]
  },
  {
   "cell_type": "code",
   "execution_count": 3,
   "id": "361da800-68fe-4640-8ef7-b7ebfded7b5f",
   "metadata": {},
   "outputs": [
    {
     "name": "stdout",
     "output_type": "stream",
     "text": [
      "(\"\\n    In the following resume, summarize the candidate's experience. Keep the response to five or less concise sentences.\\n    resume: \", '', '', None)\n",
      "('\\n    ', None, None, None)\n"
     ]
    }
   ],
   "source": [
    "import string\n",
    "\n",
    "test = string.Formatter().parse(\"\"\"\n",
    "    In the following resume, summarize the candidate's experience. Keep the response to five or less concise sentences.\n",
    "    resume: {}\n",
    "    \"\"\")\n",
    "for item in test:\n",
    "    print(item)"
   ]
  },
  {
   "cell_type": "code",
   "execution_count": 3,
   "id": "8b7589bf-a66d-45d1-b9d8-a1deb701e39d",
   "metadata": {
    "tags": []
   },
   "outputs": [],
   "source": [
    "class DocumentExtractionPromptGenerator:\n",
    "    def __init__(\n",
    "        self,\n",
    "        persona, \n",
    "        prompt_template, \n",
    "        output_fields=None, \n",
    "        examples=None\n",
    "    ):\n",
    "        self.persona=persona\n",
    "        self.prompt_template=prompt_template\n",
    "        \n",
    "        self.format_parser = string.Formatter()\n",
    "        self.output_fields = output_fields\n",
    "        self.examples=examples\n",
    "        \n",
    "    def _check_all_args_present(self, kwargs):\n",
    "        filtered_kwargs = {}\n",
    "        document_present = False\n",
    "        if 'document' in kwargs.keys(): raise ValueError('prompt args has document, possible duplication')\n",
    "        for tup in self.format_parser.parse(self.prompt_template):\n",
    "            if tup[1] is None: break\n",
    "            if tup[1]=='': raise ValueError('prompt arguments must be named')\n",
    "            if tup[1] == 'document': \n",
    "                document_present=True\n",
    "                continue\n",
    "            if tup[1] not in kwargs:\n",
    "                raise ValueError('prompt argument {} unspecified'.format(tup[1]))\n",
    "            \n",
    "            \n",
    "            filtered_kwargs[tup[1]] = kwargs[tup[1]]\n",
    "        if not document_present: raise ValueError('document must be an argument')\n",
    "        return filtered_kwargs\n",
    "            \n",
    "                                 \n",
    "                    \n",
    "    \n",
    "    \n",
    "    def generate_prompt(self, document, **kwargs):\n",
    "        filtered_kwargs = self._check_all_args_present(kwargs)\n",
    "        \n",
    "        accum = []\n",
    "        if self.persona: accum.append(self.persona)\n",
    "        prompt_template = self.prompt_template.format(document=document, **filtered_kwargs)\n",
    "\n",
    "        \n",
    "        accum.append(prompt_template)\n",
    "        \n",
    "        if self.output_fields: accum.append(self.output_fields)\n",
    "        if self.examples: accum.append(self.examples)\n",
    "\n",
    "        return '\\n\\n'.join(accum)\n",
    "    \n",
    "    "
   ]
  },
  {
   "cell_type": "code",
   "execution_count": null,
   "id": "c978273e-9b08-4146-8351-6f8653ed9fab",
   "metadata": {},
   "outputs": [],
   "source": []
  },
  {
   "cell_type": "code",
   "execution_count": 5,
   "id": "2fa9e8e5-770d-4b00-be2f-31a36c8a6192",
   "metadata": {},
   "outputs": [],
   "source": [
    "default_persona = \"you are a highly trained social sciences researcher. you strive to be objective but discerning without extrapolating too much. You use precise language and are not verbose\"\n",
    "\n",
    "\n",
    "resume_experience_prompt_template = \"\"\"\n",
    "    In the following resume, summarize the candidate's experience. Keep the response to five or less concise sentences.\n",
    "    resume: {document}\n",
    "    \"\"\"\n",
    "resume_experience_output_fields = \"experiences:\"\n",
    "\n",
    "resume_experience_prompt = DocumentExtractionPromptGenerator(\n",
    "    default_persona, \n",
    "    resume_experience_prompt_template, \n",
    "    resume_experience_output_fields\n",
    ")\n",
    "\n",
    "\n",
    "resume_industry_prompt_template = \"\"\"\n",
    "    List the industries the candidate has experience in and order them from most to least experience.\n",
    "    resume: {document}\n",
    "    \"\"\"\n",
    "resume_industry_output_fields = \"industries:\"\n",
    "resume_industry_prompt = DocumentExtractionPromptGenerator(\n",
    "    default_persona, \n",
    "    resume_industry_prompt_template, \n",
    "    resume_industry_output_fields\n",
    ")\n",
    "\n",
    "resume_skills_prompt_template = \"\"\"\n",
    "    List the top 10 skills the candidate has and order them from most to least experience based on what they have written in their resume. If the candidate has less than 10 discernable technical skills, truncate the list.\n",
    "    resume: {}\n",
    "    \"\"\"\n",
    "resume_skills_output_fields = \"skills:\"\n",
    "resume_skills_prompt = DocumentExtractionPromptGenerator(\n",
    "    default_persona, \n",
    "    resume_skills_prompt_template, \n",
    "    resume_industry_output_fields\n",
    ")"
   ]
  },
  {
   "cell_type": "code",
   "execution_count": 80,
   "id": "65a47a95-5f17-407f-8eef-00b6f9059edb",
   "metadata": {
    "tags": []
   },
   "outputs": [
    {
     "data": {
      "text/plain": [
       "\"you are a highly trained social sciences researcher. you strive to be objective but discerning without extrapolating too much. You use precise language and are not verbose\\n\\n\\n    In the following resume, summarize the candidate's experience. Keep the response to five or less concise sentences.\\n    resume: my resume\\n    \\n\\nexperiences:\""
      ]
     },
     "execution_count": 80,
     "metadata": {},
     "output_type": "execute_result"
    }
   ],
   "source": [
    "resume_summary_prompt.generate_prompt('my resume')"
   ]
  },
  {
   "cell_type": "code",
   "execution_count": 82,
   "id": "ac9e1543-b261-4c52-b174-b4f4ec4d372d",
   "metadata": {
    "tags": []
   },
   "outputs": [],
   "source": [
    "def write_batch_job_file(input_document_paths, write_batch_blob, prompt_generator):\n",
    "    for filepath in input_document_paths:\n",
    "        document = read_pdf(filepath)\n",
    "        prompt = prompt_generator.generate_prompt(document)\n",
    "        write_batch_blob.write(json.dumps({'prompt': prompt}) + '\\n')"
   ]
  },
  {
   "cell_type": "code",
   "execution_count": 87,
   "id": "fabb0f3c-fde3-4ab2-b457-2cb0e2867d85",
   "metadata": {
    "tags": []
   },
   "outputs": [],
   "source": [
    "storage_client = storage.Client()"
   ]
  },
  {
   "cell_type": "code",
   "execution_count": 99,
   "id": "57aed1b4-d143-48ab-a025-cc3c92203f88",
   "metadata": {
    "tags": []
   },
   "outputs": [],
   "source": [
    "blob  = storage_client.bucket('career-catalyst-standard-resume/experience/input').blob('test')"
   ]
  },
  {
   "cell_type": "code",
   "execution_count": 102,
   "id": "88c6ed18-de7c-4ee9-b0fd-151532f3ae11",
   "metadata": {
    "tags": []
   },
   "outputs": [],
   "source": [
    "filepath = 'career-catalyst-standard-resume/experience/input/test'\n",
    "with open(filepath, 'w') as write_file:\n",
    "    write_file.write('test')"
   ]
  },
  {
   "cell_type": "markdown",
   "id": "5d22cb79-a4b7-44d7-924e-3a6bc5ce339f",
   "metadata": {},
   "source": [
    "# bucket/blobs aren't working with cloud storage through vertex ai notebook.\n",
    "I rely on mounted directory as below\n",
    "\n",
    "bucket_name = 'career-catalyst-standard-resume/{}/input'.format('experience')\n",
    "bucket = storage_client.bucket(bucket_name)\n",
    "\n",
    "blob_name = 'data_analyst_resumes_{}.jsonl'.format('experience')\n",
    "blob = bucket.blob(blob_name)\n",
    "\n",
    "with blob.open(\"w\") as write_file:\n",
    "    input_docs = ['Data Analyst/' + file for file in os.listdir('Data Analyst') if file.split('.')[-1]=='pdf']\n",
    "    write_batch_job_file(input_docs, write_file, resume_experience_prompt)"
   ]
  },
  {
   "cell_type": "code",
   "execution_count": 103,
   "id": "c8e9907a-f983-4cff-b1f7-6e9787945cf1",
   "metadata": {
    "tags": []
   },
   "outputs": [
    {
     "name": "stderr",
     "output_type": "stream",
     "text": [
      "incorrect startxref pointer(3)\n"
     ]
    }
   ],
   "source": [
    "filepath = 'career-catalyst-standard-resume/{dimension}/input/data_analyst_resumes_{dimension}'.format(dimension='experience')\n",
    "with open(filepath, 'w') as write_file:\n",
    "    input_docs = ['Data Analyst/' + file for file in os.listdir('Data Analyst') if file.split('.')[-1]=='pdf']\n",
    "    write_batch_job_file(input_docs, write_file, resume_experience_prompt)"
   ]
  },
  {
   "cell_type": "code",
   "execution_count": null,
   "id": "5ac4a6d4-80cc-44eb-907d-b00bda35f0ba",
   "metadata": {},
   "outputs": [],
   "source": []
  }
 ],
 "metadata": {
  "environment": {
   "kernel": "conda-root-py",
   "name": "workbench-notebooks.m119",
   "type": "gcloud",
   "uri": "us-docker.pkg.dev/deeplearning-platform-release/gcr.io/workbench-notebooks:m119"
  },
  "kernelspec": {
   "display_name": "Python 3 (ipykernel) (Local)",
   "language": "python",
   "name": "conda-root-py"
  },
  "language_info": {
   "codemirror_mode": {
    "name": "ipython",
    "version": 3
   },
   "file_extension": ".py",
   "mimetype": "text/x-python",
   "name": "python",
   "nbconvert_exporter": "python",
   "pygments_lexer": "ipython3",
   "version": "3.10.14"
  }
 },
 "nbformat": 4,
 "nbformat_minor": 5
}
